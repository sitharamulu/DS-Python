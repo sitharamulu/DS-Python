{
  "nbformat": 4,
  "nbformat_minor": 0,
  "metadata": {
    "colab": {
      "name": "Infix to postfix.ipynb",
      "provenance": [],
      "authorship_tag": "ABX9TyOSOhw/nc7rXn51YPr0606h",
      "include_colab_link": true
    },
    "kernelspec": {
      "name": "python3",
      "display_name": "Python 3"
    },
    "language_info": {
      "name": "python"
    }
  },
  "cells": [
    {
      "cell_type": "markdown",
      "metadata": {
        "id": "view-in-github",
        "colab_type": "text"
      },
      "source": [
        "<a href=\"https://colab.research.google.com/github/sitharamulu/DS-Python/blob/main/Infix_to_postfix.ipynb\" target=\"_parent\"><img src=\"https://colab.research.google.com/assets/colab-badge.svg\" alt=\"Open In Colab\"/></a>"
      ]
    },
    {
      "cell_type": "code",
      "metadata": {
        "colab": {
          "base_uri": "https://localhost:8080/"
        },
        "id": "I0DENvfm5RY6",
        "outputId": "821d4723-0533-4908-b4b4-1296141737bb"
      },
      "source": [
        "class stack:\n",
        "    def __init__(self):\n",
        "        self.item = []\n",
        "    \n",
        "    def push(self,it):\n",
        "        self.item.append(it)\n",
        "    def peek(self):\n",
        "        if self.isempty() == True:\n",
        "            return 0\n",
        "        return self.item[-1]\n",
        "    \n",
        "    def pop(self):\n",
        "        if self.isempty() == True:\n",
        "            return 0\n",
        "        return(self.item.pop())\n",
        "    \n",
        "    def length(self):\n",
        "        return (len(self.item))\n",
        "    \n",
        "    \n",
        "    def isempty(self):\n",
        "        if self.item == []:\n",
        "            return True\n",
        "        else:\n",
        "            return False\n",
        "    \n",
        "    def display(self):\n",
        "        if self.isempty()== True:\n",
        "            return\n",
        "        temps = stack()\n",
        "        while(self.isempty() != True):\n",
        "            x = self.peek()\n",
        "            print(\"~\",x)\n",
        "            temps.push(x)\n",
        "            self.pop()\n",
        "        while(temps.isempty() != True):\n",
        "            x = temps.peek()\n",
        "            self.push(x)\n",
        "            temps.pop()\n",
        "    \n",
        "    \n",
        "    def isOperand(self, ch): \n",
        "        return ch.isalpha()\n",
        "    def notGreater(self, i):\n",
        "        precedence = {'+':1, '-':1, '*':2, '/':2, '%':2, '^':3}\n",
        "        if self.peek() == '(':\n",
        "            return False\n",
        "        a = precedence[i]\n",
        "        b = precedence[self.peek()] \n",
        "        if a  <= b:\n",
        "            return True\n",
        "        else:\n",
        "            return False\n",
        "            \n",
        "    \n",
        "    \n",
        "    def infixToPostfix(self, exp):\n",
        "        output = \"\"\n",
        "        \n",
        "        for i in exp:\n",
        "            \n",
        "            if self.isOperand(i) == True: # check if operand add to output\n",
        "                print(i,\"~ Operand push to stack\")\n",
        "                output = output + i\n",
        "    \n",
        "            # If the character is an '(', push it to stack \n",
        "            elif i  == '(':\n",
        "                self.push(i)\n",
        "                print(i,\" ~ Found ( push into stack\")\n",
        "    \n",
        "            elif i == ')':  # if ')' pop till '('\n",
        "                while( self.isempty() != True and self.peek() != '('):\n",
        "                    n = self.pop() \n",
        "                    output = output + n\n",
        "                    print(n, \"~ Operator popped from stack\")\n",
        "                if (self.isempty() != True and self.peek() != '('):\n",
        "                    print(\"_________\")\n",
        "                    return -1\n",
        "                else:\n",
        "                    x = self.pop()\n",
        "                    print(x, \"Popping and deleting (\")\n",
        "            else: \n",
        "                while(self.isempty() != True and self.notGreater(i)):\n",
        "                    if self.peek()=='^' and i=='^':\n",
        "                        break\n",
        "                    c = self.pop()\n",
        "                    output = output + c\n",
        "                    print(c,\"Operator popped after checking precedence from stack\")\n",
        "                self.push(i)\n",
        "                print(i,\"~ Operator pushed to stack\")\n",
        "    \n",
        "        # pop all the operator from the stack \n",
        "        while self.isempty() != True:\n",
        "            xx = self.pop()\n",
        "            output = output + xx\n",
        "            print(xx,\"~ pop at last\")\n",
        "        print(output)\n",
        "        self.display()\n",
        "st = stack()\n",
        "st.infixToPostfix(\"(a+b)*(c-d)\")"
      ],
      "execution_count": 4,
      "outputs": [
        {
          "output_type": "stream",
          "name": "stdout",
          "text": [
            "(  ~ Found ( push into stack\n",
            "a ~ Operand push to stack\n",
            "+ ~ Operator pushed to stack\n",
            "b ~ Operand push to stack\n",
            "+ ~ Operator popped from stack\n",
            "( Popping and deleting (\n",
            "* ~ Operator pushed to stack\n",
            "(  ~ Found ( push into stack\n",
            "c ~ Operand push to stack\n",
            "- ~ Operator pushed to stack\n",
            "d ~ Operand push to stack\n",
            "- ~ Operator popped from stack\n",
            "( Popping and deleting (\n",
            "* ~ pop at last\n",
            "ab+cd-*\n"
          ]
        }
      ]
    }
  ]
}