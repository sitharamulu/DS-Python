{
  "nbformat": 4,
  "nbformat_minor": 0,
  "metadata": {
    "colab": {
      "name": "polynomial Display.ipynb",
      "provenance": [],
      "authorship_tag": "ABX9TyNpOmgkaxZckJJOEDlI3vme",
      "include_colab_link": true
    },
    "kernelspec": {
      "name": "python3",
      "display_name": "Python 3"
    },
    "language_info": {
      "name": "python"
    }
  },
  "cells": [
    {
      "cell_type": "markdown",
      "metadata": {
        "id": "view-in-github",
        "colab_type": "text"
      },
      "source": [
        "<a href=\"https://colab.research.google.com/github/sitharamulu/DS-Python/blob/main/polynomial_Display.ipynb\" target=\"_parent\"><img src=\"https://colab.research.google.com/assets/colab-badge.svg\" alt=\"Open In Colab\"/></a>"
      ]
    },
    {
      "cell_type": "code",
      "metadata": {
        "colab": {
          "base_uri": "https://localhost:8080/"
        },
        "id": "WUkn8e1hqMUR",
        "outputId": "302c44ec-10a9-4bcc-b608-bc4d6e18bf4d"
      },
      "source": [
        "class Node:\n",
        "    def __init__(self, value, expre):\n",
        "        self.value = value\n",
        "        self.expre = expre\n",
        "        self.next = None\n",
        "\n",
        "class polynomial:\n",
        "    def __init__(self):\n",
        "        self.head = None\n",
        "        self.tail = None\n",
        "    \n",
        "    def push(self, value, expre):\n",
        "        new_node = Node(value, expre)\n",
        "        if self.head == None:\n",
        "            self.head = new_node\n",
        "            self.tail = new_node\n",
        "        else:\n",
        "            self.tail.next = new_node\n",
        "            self.tail = new_node\n",
        "\n",
        "\n",
        "    def Display(self):\n",
        "        if self.head == None:\n",
        "            print(\"---------Nothing to be displayed---------\")\n",
        "        else:\n",
        "            current_node = self.head\n",
        "            cnt = 0\n",
        "            print(\"Polynomial Expression is:\", end = \" \")\n",
        "            while current_node.next != None:\n",
        "                if current_node.value >= 0 and cnt != 0:\n",
        "                    print(f\"+{current_node.value}x^{current_node.expre}\", end = \"\")\n",
        "                elif current_node.value >= 0 and cnd == 0:\n",
        "                    print(f\"{current_node.value}x^{current_node.expre}\", end = \"\")\n",
        "                elif current_node.value < 0:\n",
        "                    print(f\"{current_node.value}x^{current_node.expre}\", end = \"\")\n",
        "                current_node = current_node.next\n",
        "                cnt += 1\n",
        "            if current_node.value >= 0:\n",
        "                print(f\"+ {current_node.value}x^{current_node.expre}\") #since while loop termminates and it wont print the data in last node\n",
        "            else:\n",
        "                print(f\"{current_node.value}x^{current_node.expre}\") #since while loop termminates and it wont print the data in last node\n",
        "\n",
        " \n",
        " \n",
        "poly_exp = polynomial()\n",
        "cnd = True\n",
        "\n",
        "print(\"Enter your polynomial expression:\")\n",
        "# Lets try this method afterwards\n",
        "# expression = input(\"Enter your polynomial expression: \").split()\n",
        "\n",
        "while cnd:\n",
        "    print(\"Menu (enter number):\\n\\tEnter 1 to add\\n\\tEnter 0 to quit\")\n",
        "    query = int(input(\"Enter your option: \"))\n",
        "    if query == 1:\n",
        "        val = int(input(\"Enter Value: \"))\n",
        "        powe = int(input(\"Enter Power: \"))\n",
        "        poly_exp.push(val, powe)\n",
        "    elif query == 0:\n",
        "        print(\"Your Polynomial Expression has been stored Successfully\")\n",
        "        cnd = False\n",
        "    else:\n",
        "        print(\"Enter a valid char from menu!!\")\n",
        "\n",
        "poly_exp.Display()"
      ],
      "execution_count": 2,
      "outputs": [
        {
          "output_type": "stream",
          "name": "stdout",
          "text": [
            "Enter your polynomial expression:\n",
            "Menu (enter number):\n",
            "\tEnter 1 to add\n",
            "\tEnter 0 to quit\n",
            "Enter your option: 1\n",
            "Enter Value: 2\n",
            "Enter Power: 2\n",
            "Menu (enter number):\n",
            "\tEnter 1 to add\n",
            "\tEnter 0 to quit\n",
            "Enter your option: 1\n",
            "Enter Value: 3\n",
            "Enter Power: 1\n",
            "Menu (enter number):\n",
            "\tEnter 1 to add\n",
            "\tEnter 0 to quit\n",
            "Enter your option: 1\n",
            "Enter Value: 4\n",
            "Enter Power: 0\n",
            "Menu (enter number):\n",
            "\tEnter 1 to add\n",
            "\tEnter 0 to quit\n",
            "Enter your option: 0\n",
            "Your Polynomial Expression has been stored Successfully\n",
            "Polynomial Expression is: 2x^2+3x^1+ 4x^0\n"
          ]
        }
      ]
    }
  ]
}