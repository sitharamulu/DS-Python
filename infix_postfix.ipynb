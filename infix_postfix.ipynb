{
  "nbformat": 4,
  "nbformat_minor": 0,
  "metadata": {
    "colab": {
      "name": "infix-postfix8.ipynb",
      "provenance": [],
      "authorship_tag": "ABX9TyNPK6+YmTX2PQT4GoKgYoYi",
      "include_colab_link": true
    },
    "kernelspec": {
      "name": "python3",
      "display_name": "Python 3"
    },
    "language_info": {
      "name": "python"
    }
  },
  "cells": [
    {
      "cell_type": "markdown",
      "metadata": {
        "id": "view-in-github",
        "colab_type": "text"
      },
      "source": [
        "<a href=\"https://colab.research.google.com/github/sitharamulu/DS-Python/blob/main/infix_postfix.ipynb\" target=\"_parent\"><img src=\"https://colab.research.google.com/assets/colab-badge.svg\" alt=\"Open In Colab\"/></a>"
      ]
    },
    {
      "cell_type": "code",
      "metadata": {
        "colab": {
          "base_uri": "https://localhost:8080/"
        },
        "id": "xG-90-pFGDK-",
        "outputId": "c5ff8630-65c8-4ebe-bffc-ce6d13482e15"
      },
      "source": [
        "# Python program to convert infix expression to postfix\n",
        "\n",
        "# Class to convert the expression\n",
        "class Conversion:\n",
        "\t\n",
        "\t# Constructor to initialize the class variables\n",
        "\tdef __init__(self, capacity):\n",
        "\t\tself.top = -1\n",
        "\t\tself.capacity = capacity\n",
        "\t\t# This array is used a stack\n",
        "\t\tself.array = []\n",
        "\t\t# Precedence setting\n",
        "\t\tself.output = []\n",
        "\t\tself.precedence = {'+':1, '-':1, '*':2, '/':2, '^':3}\n",
        "\t\n",
        "\t# check if the stack is empty\n",
        "\tdef isEmpty(self):\n",
        "\t\treturn True if self.top == -1 else False\n",
        "\t\n",
        "\t# Return the value of the top of the stack\n",
        "\tdef peek(self):\n",
        "\t\treturn self.array[-1]\n",
        "\t\n",
        "\t# Pop the element from the stack\n",
        "\tdef pop(self):\n",
        "\t\tif not self.isEmpty():\n",
        "\t\t\tself.top -= 1\n",
        "\t\t\treturn self.array.pop()\n",
        "\t\telse:\n",
        "\t\t\treturn \"$\"\n",
        "\t\n",
        "\t# Push the element to the stack\n",
        "\tdef push(self, op):\n",
        "\t\tself.top += 1\n",
        "\t\tself.array.append(op)\n",
        "\n",
        "\t# A utility function to check is the given character\n",
        "\t# is operand\n",
        "\tdef isOperand(self, ch):\n",
        "\t\treturn ch.isalpha()\n",
        "\n",
        "\t# Check if the precedence of operator is strictly\n",
        "\t# less than top of stack or not\n",
        "\tdef notGreater(self, i):\n",
        "\t\ttry:\n",
        "\t\t\ta = self.precedence[i]\n",
        "\t\t\tb = self.precedence[self.peek()]\n",
        "\t\t\treturn True if a <= b else False\n",
        "\t\texcept KeyError:\n",
        "\t\t\treturn False\n",
        "\t\t\t\n",
        "\t# The main function that\n",
        "\t# converts given infix expression\n",
        "\t# to postfix expression\n",
        "\tdef infixToPostfix(self, exp):\n",
        "\t\t\n",
        "\t\t# Iterate over the expression for conversion\n",
        "\t\tfor i in exp:\n",
        "\t\t\t# If the character is an operand,\n",
        "\t\t\t# add it to output\n",
        "\t\t\tif self.isOperand(i):\n",
        "\t\t\t\tself.output.append(i)\n",
        "\t\t\t\n",
        "\t\t\t# If the character is an '(', push it to stack\n",
        "\t\t\telif i == '(':\n",
        "\t\t\t\tself.push(i)\n",
        "\n",
        "\t\t\t# If the scanned character is an ')', pop and\n",
        "\t\t\t# output from the stack until and '(' is found\n",
        "\t\t\telif i == ')':\n",
        "\t\t\t\twhile( (not self.isEmpty()) and\n",
        "\t\t\t\t\t\t\t\tself.peek() != '('):\n",
        "\t\t\t\t\ta = self.pop()\n",
        "\t\t\t\t\tself.output.append(a)\n",
        "\t\t\t\tif (not self.isEmpty() and self.peek() != '('):\n",
        "\t\t\t\t\treturn -1\n",
        "\t\t\t\telse:\n",
        "\t\t\t\t\tself.pop()\n",
        "\n",
        "\t\t\t# An operator is encountered\n",
        "\t\t\telse:\n",
        "\t\t\t\twhile(not self.isEmpty() and self.notGreater(i)):\n",
        "\t\t\t\t\tself.output.append(self.pop())\n",
        "\t\t\t\tself.push(i)\n",
        "\n",
        "\t\t# pop all the operator from the stack\n",
        "\t\twhile not self.isEmpty():\n",
        "\t\t\tself.output.append(self.pop())\n",
        "\n",
        "\t\tprint(\"\".join(self.output)) \n",
        "\n",
        "# Driver program to test above function\n",
        "exp = \"a^b^c\"\n",
        "obj = Conversion(len(exp))\n",
        "obj.infixToPostfix(exp)\n",
        "\n"
      ],
      "execution_count": 1,
      "outputs": [
        {
          "output_type": "stream",
          "name": "stdout",
          "text": [
            "ab^c^\n"
          ]
        }
      ]
    }
  ]
}