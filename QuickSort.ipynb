{
  "nbformat": 4,
  "nbformat_minor": 0,
  "metadata": {
    "colab": {
      "name": "QuickSort.ipynb",
      "provenance": [],
      "authorship_tag": "ABX9TyN3eBUx1gGfjT1wpSUiykw3",
      "include_colab_link": true
    },
    "kernelspec": {
      "name": "python3",
      "display_name": "Python 3"
    },
    "language_info": {
      "name": "python"
    }
  },
  "cells": [
    {
      "cell_type": "markdown",
      "metadata": {
        "id": "view-in-github",
        "colab_type": "text"
      },
      "source": [
        "<a href=\"https://colab.research.google.com/github/sitharamulu/DS-Python/blob/main/QuickSort.ipynb\" target=\"_parent\"><img src=\"https://colab.research.google.com/assets/colab-badge.svg\" alt=\"Open In Colab\"/></a>"
      ]
    },
    {
      "cell_type": "code",
      "metadata": {
        "colab": {
          "base_uri": "https://localhost:8080/"
        },
        "id": "dU9Dsmz0WWt4",
        "outputId": "7983740d-608a-49ee-fc02-3493080e93fb"
      },
      "source": [
        "\n",
        "def partition(start, end, array):\n",
        "\tpivot_index = start\n",
        "\tpivot = array[pivot_index]\n",
        "\twhile start < end:\n",
        "\t\twhile start < len(array) and array[start] <= pivot:\n",
        "\t\t\tstart += 1\n",
        "\t\t# Decrement the end pointer till it finds an\n",
        "\t\t# element less than pivot\n",
        "\t\twhile array[end] > pivot:\n",
        "\t\t\tend -= 1\n",
        "\t\t# If start and end have not crossed each other,\n",
        "\t\t# swap the numbers on start and end\n",
        "\t\tif(start < end):\n",
        "\t\t\tarray[start], array[end] = array[end], array[start]\n",
        "\t\n",
        "\t# Swap pivot element with element on end pointer.\n",
        "\t# This puts pivot on its correct sorted place.\n",
        "\tarray[end], array[pivot_index] = array[pivot_index], array[end]\n",
        "\t\n",
        "\t# Returning end pointer to divide the array into 2\n",
        "\treturn end\n",
        "\t\n",
        "# The main function that implements QuickSort\n",
        "def quick_sort(start, end, array):\n",
        "\t\n",
        "\tif (start < end):\n",
        "\t\t\n",
        "\t\t# p is partitioning index, array[p]\n",
        "\t\t# is at right place\n",
        "\t\tp = partition(start, end, array)\n",
        "\t\t\n",
        "\t\t# Sort elements before partition\n",
        "\t\t# and after partition\n",
        "\t\tquick_sort(start, p - 1, array)\n",
        "\t\tquick_sort(p + 1, end, array)\n",
        "\t\t\n",
        "# Driver code\n",
        "array = [ 10, 7, 8, 9, 1, 5 ]\n",
        "quick_sort(0, len(array) - 1, array)\n",
        "\n",
        "print(f'Sorted array: {array}')"
      ],
      "execution_count": null,
      "outputs": [
        {
          "output_type": "stream",
          "name": "stdout",
          "text": [
            "Sorted array: [1, 5, 7, 8, 9, 10]\n"
          ]
        }
      ]
    }
  ]
}