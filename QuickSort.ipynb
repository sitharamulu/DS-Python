{
  "nbformat": 4,
  "nbformat_minor": 0,
  "metadata": {
    "colab": {
      "name": "QuickSort.ipynb",
      "provenance": [],
      "authorship_tag": "ABX9TyOfcuoNpmi1VtELuaJ17aag",
      "include_colab_link": true
    },
    "kernelspec": {
      "name": "python3",
      "display_name": "Python 3"
    },
    "language_info": {
      "name": "python"
    }
  },
  "cells": [
    {
      "cell_type": "markdown",
      "metadata": {
        "id": "view-in-github",
        "colab_type": "text"
      },
      "source": [
        "<a href=\"https://colab.research.google.com/github/sitharamulu/DS-Python/blob/main/QuickSort.ipynb\" target=\"_parent\"><img src=\"https://colab.research.google.com/assets/colab-badge.svg\" alt=\"Open In Colab\"/></a>"
      ]
    },
    {
      "cell_type": "code",
      "metadata": {
        "colab": {
          "base_uri": "https://localhost:8080/"
        },
        "id": "dU9Dsmz0WWt4",
        "outputId": "87454d88-e7bf-4f34-8abe-467d71f7567e"
      },
      "source": [
        "def partition(left, right, array):\n",
        "\tpivot_index = left\n",
        "\tpivot = array[pivot_index]\n",
        "\twhile left < right:\n",
        "\t\twhile left < len(array) and array[left] <= pivot:\n",
        "\t\t\tleft += 1\n",
        "\t\t# Decrement the right pointer till it finds an\n",
        "\t\t# element less than pivot\n",
        "\t\twhile array[right] > pivot:\n",
        "\t\t\tright -= 1\n",
        "\t\t# If left and right have not crossed each other,\n",
        "\t\t# swap the numbers on left and right\n",
        "\t\tif(left < right):\n",
        "\t\t\tarray[left], array[right] = array[right], array[left]\n",
        "\t\n",
        "\t# Swap pivot element with element on right pointer.\n",
        "\t# This puts pivot on its correct sorted place.\n",
        "\tarray[right], array[pivot_index] = array[pivot_index], array[right]\n",
        "\t\n",
        "\t# Returning right pointer to divide the array into 2\n",
        "\treturn right\n",
        "\t\n",
        "# The main function that implements QuickSort\n",
        "def quick_sort(left, right, array):\n",
        "\t\n",
        "\tif (left < right):\n",
        "\t\t\n",
        "\t\t# p is partitioning index, array[p]\n",
        "\t\t# is at right place\n",
        "\t\tp = partition(left, right, array)\n",
        "\t\t\n",
        "\t\t# Sort elements before partition\n",
        "\t\t# and after partition\n",
        "\t\tquick_sort(left, p - 1, array)\n",
        "\t\tquick_sort(p + 1, right, array)\n",
        "\t\t\n",
        "# Driver code\n",
        "array = [ 10, 7, 8, 9, 1, 5 ]\n",
        "quick_sort(0, len(array) - 1, array)\n",
        "\n",
        "print(f'Sorted array: {array}')"
      ],
      "execution_count": 2,
      "outputs": [
        {
          "output_type": "stream",
          "name": "stdout",
          "text": [
            "Sorted array: [1, 5, 7, 8, 9, 10]\n"
          ]
        }
      ]
    }
  ]
}