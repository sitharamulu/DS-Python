{
  "nbformat": 4,
  "nbformat_minor": 0,
  "metadata": {
    "colab": {
      "name": "Queue_Array.ipynb",
      "provenance": [],
      "authorship_tag": "ABX9TyPlKuJP8V5bT5f0RKMBvsCq",
      "include_colab_link": true
    },
    "kernelspec": {
      "name": "python3",
      "display_name": "Python 3"
    },
    "language_info": {
      "name": "python"
    }
  },
  "cells": [
    {
      "cell_type": "markdown",
      "metadata": {
        "id": "view-in-github",
        "colab_type": "text"
      },
      "source": [
        "<a href=\"https://colab.research.google.com/github/sitharamulu/DS-Python/blob/main/Queue_Array.ipynb\" target=\"_parent\"><img src=\"https://colab.research.google.com/assets/colab-badge.svg\" alt=\"Open In Colab\"/></a>"
      ]
    },
    {
      "cell_type": "code",
      "metadata": {
        "id": "KywLAv6p8-Kv"
      },
      "source": [
        "class Queue():\n",
        "    def __init__(self):\n",
        "        self.queue_sz = int(input(\"Enter queue size: \"))\n",
        "        self.front = -1\n",
        "        self.rear = -1\n",
        "        self.queue = None\n",
        "\n",
        "    def create(self):\n",
        "        '''Create a Queue of specified Length'''\n",
        "        self.queue = [0 for _ in range(self.queue_sz)]\n",
        "        \n",
        "\n",
        "    def isfull(self):\n",
        "        if self.rear == (self.queue_sz - 1):\n",
        "            return 1\n",
        "        return 0\n",
        "\n",
        "    def isemt(self):\n",
        "        if self.front == (self.rear):\n",
        "            return 1\n",
        "        return 0\n",
        "\n",
        "    def enqueue(self):\n",
        "        '''Addition of elements into the queue which is also known as Enqueue'''\n",
        "        if self.isfull():\n",
        "            print(\"-------------Queue is full-------------\")\n",
        "        else:\n",
        "            self.rear += 1\n",
        "            self.queue[self.rear] = int(input(\"Enter element: \"))\n",
        "\n",
        "    def dequeue(self):\n",
        "        '''Deletion of elements from the queue which is also known as Dequeue'''\n",
        "        if self.isemt():\n",
        "            print(\"-------------Queue is empty-------------\")\n",
        "        else:\n",
        "            self.front += 1\n",
        "            self.queue[self.front] = 0\n",
        "\n",
        "    def Display(self): #this code is just for displaying the queue elements\n",
        "        '''Intelligent display function to echo elements inside the queue if any exists'''\n",
        "        req = self.queue[self.front + 1:self.rear + 1]\n",
        "        if len(req) != 0:\n",
        "            print(*req)\n",
        "        elif len(req) == 0:\n",
        "            if self.rear == self.queue_sz - 1:\n",
        "                print(\"-------------Queue is empty-------------\")\n",
        "            else:\n",
        "                print(\"-------------Enqueue elements in queue-------------\")\n",
        "\n",
        "\n",
        "Que = Queue()\n",
        "Que.create()\n",
        "cnd = True\n",
        "\n",
        "while cnd:\n",
        "    print(\"Menu (Enter number):\\n\\t1. Enqueue\\n\\t2. Dequeue\\n\\t3. Display\\n\\t4. Quit\")\n",
        "    query = int(input(\"Enter value: \"))\n",
        "    if query == 1:\n",
        "        Que.enqueue()\n",
        "    elif query == 2:\n",
        "        Que.dequeue()\n",
        "    elif query == 3:\n",
        "        Que.Display()\n",
        "    elif query == 4:\n",
        "        print(\"Quitting...\")\n",
        "        cnd = False\n",
        "    else:\n",
        "        print(\"Please enter a number that exists in the menu\")"
      ],
      "execution_count": null,
      "outputs": []
    }
  ]
}