{
  "nbformat": 4,
  "nbformat_minor": 0,
  "metadata": {
    "colab": {
      "name": "Sparse Matrix.ipynb",
      "provenance": [],
      "authorship_tag": "ABX9TyP2ZWcMxVFacspU/90YqRn+",
      "include_colab_link": true
    },
    "kernelspec": {
      "name": "python3",
      "display_name": "Python 3"
    },
    "language_info": {
      "name": "python"
    }
  },
  "cells": [
    {
      "cell_type": "markdown",
      "metadata": {
        "id": "view-in-github",
        "colab_type": "text"
      },
      "source": [
        "<a href=\"https://colab.research.google.com/github/sitharamulu/DS-Python/blob/main/Sparse_Matrix.ipynb\" target=\"_parent\"><img src=\"https://colab.research.google.com/assets/colab-badge.svg\" alt=\"Open In Colab\"/></a>"
      ]
    },
    {
      "cell_type": "code",
      "metadata": {
        "id": "B4TLJE9bbH4s"
      },
      "source": [
        ""
      ],
      "execution_count": null,
      "outputs": []
    },
    {
      "cell_type": "code",
      "metadata": {
        "colab": {
          "base_uri": "https://localhost:8080/"
        },
        "id": "sDuATXVLXTu2",
        "outputId": "f475a55c-1180-4566-8080-bed1970f7c64"
      },
      "source": [
        "# Python program for Sparse Matrix Representation\n",
        "# using arrays\n",
        "\n",
        "# assume a sparse matrix of order 4*5\n",
        "# let assume another matrix compactMatrix\n",
        "# now store the value,row,column of arr1 in sparse matrix compactMatrix\n",
        "\n",
        "sparseMatrix = [[0,0,3,0,4],[0,0,5,7,0],[0,0,0,0,0],[0,2,6,0,0]]\n",
        "\n",
        "# initialize size as 0\n",
        "size = 0\n",
        "\n",
        "for i in range(4):\n",
        "\tfor j in range(5):\n",
        "\t\tif (sparseMatrix[i][j] != 0):\n",
        "\t\t\tsize += 1\n",
        "\n",
        "# number of columns in compactMatrix(size) should\n",
        "# be equal to number of non-zero elements in sparseMatrix\n",
        "rows, cols = (3, size)\n",
        "compactMatrix = [[0 for i in range(cols)] for j in range(rows)]\n",
        "\n",
        "k = 0\n",
        "for i in range(4):\n",
        "\tfor j in range(5):\n",
        "\t\tif (sparseMatrix[i][j] != 0):\n",
        "\t\t\tcompactMatrix[0][k] = i\n",
        "\t\t\tcompactMatrix[1][k] = j\n",
        "\t\t\tcompactMatrix[2][k] = sparseMatrix[i][j]\n",
        "\t\t\tk += 1\n",
        "\n",
        "for i in compactMatrix:\n",
        "\tprint(i)\n",
        "\n",
        "\n"
      ],
      "execution_count": 4,
      "outputs": [
        {
          "output_type": "stream",
          "name": "stdout",
          "text": [
            "[0, 0, 1, 1, 3, 3]\n",
            "[2, 4, 2, 3, 1, 2]\n",
            "[3, 4, 5, 7, 2, 6]\n"
          ]
        }
      ]
    }
  ]
}