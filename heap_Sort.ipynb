{
  "nbformat": 4,
  "nbformat_minor": 0,
  "metadata": {
    "colab": {
      "name": "heap Sort.ipynb",
      "provenance": [],
      "authorship_tag": "ABX9TyOjNw5O48eiUYWfBbYqZ5To",
      "include_colab_link": true
    },
    "kernelspec": {
      "name": "python3",
      "display_name": "Python 3"
    },
    "language_info": {
      "name": "python"
    }
  },
  "cells": [
    {
      "cell_type": "markdown",
      "metadata": {
        "id": "view-in-github",
        "colab_type": "text"
      },
      "source": [
        "<a href=\"https://colab.research.google.com/github/sitharamulu/DS-Python/blob/main/heap_Sort.ipynb\" target=\"_parent\"><img src=\"https://colab.research.google.com/assets/colab-badge.svg\" alt=\"Open In Colab\"/></a>"
      ]
    },
    {
      "cell_type": "code",
      "metadata": {
        "colab": {
          "base_uri": "https://localhost:8080/"
        },
        "id": "OYL0gx4GZJ8S",
        "outputId": "7785cf93-e3a5-46cf-90c8-531ca562f70b"
      },
      "source": [
        "# Python program for implementation of heap Sort\n",
        "\n",
        "# To heapify subtree rooted at index i.\n",
        "# n is size of heap\n",
        "\n",
        "\n",
        "def heapify(arr, n, i):\n",
        "\tlargest = i # Initialize largest as root\n",
        "\tl = 2 * i + 1\t # left = 2*i + 1\n",
        "\tr = 2 * i + 2\t # right = 2*i + 2\n",
        "\n",
        "\t# See if left child of root exists and is\n",
        "\t# greater than root\n",
        "\tif l < n and arr[largest] < arr[l]:\n",
        "\t\tlargest = l\n",
        "\n",
        "\t# See if right child of root exists and is\n",
        "\t# greater than root\n",
        "\tif r < n and arr[largest] < arr[r]:\n",
        "\t\tlargest = r\n",
        "\n",
        "\t# Change root, if needed\n",
        "\tif largest != i:\n",
        "\t\tarr[i], arr[largest] = arr[largest], arr[i] # swap\n",
        "\n",
        "\t\t# Heapify the root.\n",
        "\t\theapify(arr, n, largest)\n",
        "\n",
        "# The main function to sort an array of given size\n",
        "\n",
        "\n",
        "def heapSort(arr):\n",
        "\tn = len(arr)\n",
        "\n",
        "\t# Build a maxheap.\n",
        "\tfor i in range(n//2 - 1, -1, -1):\n",
        "\t\theapify(arr, n, i)\n",
        "\n",
        "\t# One by one extract elements\n",
        "\tfor i in range(n-1, 0, -1):\n",
        "\t\tarr[i], arr[0] = arr[0], arr[i] # swap\n",
        "\t\theapify(arr, i, 0)\n",
        "\n",
        "\n",
        "# Driver code\n",
        "arr = [12, 11, 13, 5, 6, 7]\n",
        "heapSort(arr)\n",
        "n = len(arr)\n",
        "print(\"Sorted array is\")\n",
        "for i in range(n):\n",
        "\tprint(\"%d\" % arr[i]),\n"
      ],
      "execution_count": 1,
      "outputs": [
        {
          "output_type": "stream",
          "name": "stdout",
          "text": [
            "Sorted array is\n",
            "5\n",
            "6\n",
            "7\n",
            "11\n",
            "12\n",
            "13\n"
          ]
        }
      ]
    }
  ]
}