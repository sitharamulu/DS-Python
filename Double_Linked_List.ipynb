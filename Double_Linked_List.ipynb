{
  "nbformat": 4,
  "nbformat_minor": 0,
  "metadata": {
    "colab": {
      "name": "Double Linked List.ipynb",
      "provenance": [],
      "authorship_tag": "ABX9TyNVuXSwF/SOfjfgvYvKBqLT",
      "include_colab_link": true
    },
    "kernelspec": {
      "name": "python3",
      "display_name": "Python 3"
    },
    "language_info": {
      "name": "python"
    }
  },
  "cells": [
    {
      "cell_type": "markdown",
      "metadata": {
        "id": "view-in-github",
        "colab_type": "text"
      },
      "source": [
        "<a href=\"https://colab.research.google.com/github/sitharamulu/DS-Python/blob/main/Double_Linked_List.ipynb\" target=\"_parent\"><img src=\"https://colab.research.google.com/assets/colab-badge.svg\" alt=\"Open In Colab\"/></a>"
      ]
    },
    {
      "cell_type": "code",
      "metadata": {
        "id": "Rf5RVTuWfDg1"
      },
      "source": [
        "class Node():\n",
        "    def __init__(self, data):\n",
        "        self.prev = None # previous node address\n",
        "        self.next = None # next node address\n",
        "        self.data = data\n",
        "    \n",
        "class dbl_lnk_lst:\n",
        "    def __init__(self):\n",
        "        self.head = None\n",
        "        self.tail = None\n",
        "\n",
        "    def create(self):\n",
        "        new_node = Node(input(\"Enter Data: \"))\n",
        "        self.head = new_node # head node\n",
        "        self.tail = new_node # tail node\n",
        "    \n",
        "    def insertion(self):\n",
        "        new_node = Node(input(\"Enter Data: \"))\n",
        "        if self.head == None:\n",
        "            self.head = new_node\n",
        "            self.tail = new_node\n",
        "        else:\n",
        "            new_node.prev = self.tail\n",
        "            self.tail.next = new_node\n",
        "            self.tail = new_node\n",
        "        \n",
        "\n",
        "    def deletion(self): # to delete the last node\n",
        "        if self.head == None:\n",
        "            print(\"Nothing left to remove\")\n",
        "        else:\n",
        "            if self.tail.prev == None:\n",
        "                head = self.head\n",
        "                self.head = None\n",
        "                self.tail = None\n",
        "                del head\n",
        "                \n",
        "            else:\n",
        "                tail_node = self.tail\n",
        "                #2print(self.tail.prev)\n",
        "                self.tail.prev.next = None\n",
        "                self.tail = self.tail.prev\n",
        "                #1\n",
        "                print(self.tail.prev)\n",
        "                del tail_node\n",
        "\n",
        "    def Display(self): # traversal in both ways\n",
        "        if self.head == None:\n",
        "            print(\"There are no elements to display\")\n",
        "        else:\n",
        "            print(\"Select:\\n\\t1. From first\\n\\t2. From last\")\n",
        "            query = int(input(\"Enter your option: \"))\n",
        "            if query == 1:\n",
        "                curr_node = self.head\n",
        "                print(\"Printing list elements from starting...\")\n",
        "                while curr_node.next != None:\n",
        "                    print(curr_node.data, end = \" \")\n",
        "                    curr_node = curr_node.next\n",
        "                print(curr_node.data, \"\\n\")\n",
        "            elif query == 2:\n",
        "                print(\"Printing list elements from end...\")\n",
        "                curr_node = self.tail\n",
        "                while curr_node.prev != None:\n",
        "                    print(curr_node.data, end = \" \")\n",
        "                    curr_node = curr_node.prev\n",
        "                print(curr_node.data, \"\\n\")\n",
        "\n",
        "\n",
        "dbl = dbl_lnk_lst()\n",
        "cnd = True\n",
        "dbl.create()\n",
        "while cnd:\n",
        "    print(\"Menu\\n\\t1. insert\\n\\t2. Display\\n\\t3. Delete\\n\\t4. Quit\")\n",
        "    query = int(input(\"Enter selected option: \"))\n",
        "    if query == 1:\n",
        "        dbl.insertion()\n",
        "    elif query == 2:\n",
        "        dbl.Display()\n",
        "    elif query == 3:\n",
        "        dbl.deletion()\n",
        "    elif query == 4:\n",
        "        print(\"Quitting...\")\n",
        "        cnd = False\n",
        "    else:\n",
        "        print(\"Select a valid option from menu\")"
      ],
      "execution_count": null,
      "outputs": []
    }
  ]
}