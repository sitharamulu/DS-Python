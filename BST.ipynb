{
  "nbformat": 4,
  "nbformat_minor": 0,
  "metadata": {
    "colab": {
      "name": "BST.ipynb",
      "provenance": [],
      "authorship_tag": "ABX9TyM/dxoVW2Gz7n5O97RSHhf5",
      "include_colab_link": true
    },
    "kernelspec": {
      "name": "python3",
      "display_name": "Python 3"
    },
    "language_info": {
      "name": "python"
    }
  },
  "cells": [
    {
      "cell_type": "markdown",
      "metadata": {
        "id": "view-in-github",
        "colab_type": "text"
      },
      "source": [
        "<a href=\"https://colab.research.google.com/github/sitharamulu/DS-Python/blob/main/BST.ipynb\" target=\"_parent\"><img src=\"https://colab.research.google.com/assets/colab-badge.svg\" alt=\"Open In Colab\"/></a>"
      ]
    },
    {
      "cell_type": "code",
      "execution_count": 1,
      "metadata": {
        "colab": {
          "base_uri": "https://localhost:8080/"
        },
        "id": "O5gYCEUunmiv",
        "outputId": "87d51bb4-8a78-44b6-f5cf-44ced679d48f"
      },
      "outputs": [
        {
          "output_type": "stream",
          "name": "stdout",
          "text": [
            "Inorder\n",
            "20\n",
            "30\n",
            "40\n",
            "50\n",
            "60\n",
            "70\n",
            "80\n",
            "\n",
            "Preorder\n",
            "50\n",
            "30\n",
            "20\n",
            "40\n",
            "70\n",
            "60\n",
            "80\n",
            "\n",
            "Postorder\n",
            "20\n",
            "40\n",
            "30\n",
            "60\n",
            "80\n",
            "70\n",
            "50\n",
            "Number of nodes: 7\n"
          ]
        }
      ],
      "source": [
        "# Python program to demonstrate\n",
        "# insert operation in binary search tree\n",
        "\n",
        "# A utility class that represents\n",
        "# an individual node in a BST\n",
        "\n",
        "\n",
        "class Node:\n",
        "\tdef __init__(self, key):\n",
        "\t\tself.left = None\n",
        "\t\tself.right = None\n",
        "\t\tself.val = key\n",
        "\n",
        "# A utility function to insert\n",
        "# a new node with the given key\n",
        "\n",
        "\n",
        "def insert(root, key):\n",
        "\tif root is None:\n",
        "\t\treturn Node(key)\n",
        "\telse:\n",
        "\t\tif root.val == key:\n",
        "\t\t\treturn root\n",
        "\t\telif root.val < key:\n",
        "\t\t\troot.right = insert(root.right, key)\n",
        "\t\telse:\n",
        "\t\t\troot.left = insert(root.left, key)\n",
        "\treturn root\n",
        "\n",
        "# A utility function to do inorder tree traversal\n",
        "\n",
        "\n",
        "def inorder(root):\n",
        "    if root:\n",
        "        inorder(root.left)\n",
        "        print(root.val)\n",
        "        inorder(root.right)\n",
        "\n",
        "\n",
        "def postorder(root):\n",
        "    if root:\n",
        "        postorder(root.left)\n",
        "        postorder(root.right)\n",
        "        print(root.val)\n",
        "\n",
        "def preorder(root):\n",
        "    if root:\n",
        "        print(root.val)\n",
        "        preorder(root.left)\n",
        "        preorder(root.right)\n",
        "\n",
        "def node_count(node):\n",
        "    if node is None:\n",
        "        return 0\n",
        "    return 1 + node_count(node.left) + node_count(node.right)\n",
        "\n",
        "\n",
        "\n",
        "# Driver program to test the above functions\n",
        "# Let us create the following BST\n",
        "# 50\n",
        "# /\t \\\n",
        "# 30\t 70\n",
        "# / \\ / \\\n",
        "# 20 40 60 80\n",
        "\n",
        "r = Node(50)\n",
        "r = insert(r, 30)\n",
        "r = insert(r, 20)\n",
        "r = insert(r, 40)\n",
        "r = insert(r, 70)\n",
        "r = insert(r, 60)\n",
        "r = insert(r, 80)\n",
        "\n",
        "\n",
        "# Print inoder traversal of the BST\n",
        "\n",
        "print(\"Inorder\")\n",
        "inorder(r)\n",
        "print(\"\\nPreorder\")\n",
        "preorder(r)\n",
        "print(\"\\nPostorder\")\n",
        "postorder(r)\n",
        "\n",
        "cnt = node_count(r)\n",
        "print(\"Number of nodes:\", cnt)"
      ]
    }
  ]
}