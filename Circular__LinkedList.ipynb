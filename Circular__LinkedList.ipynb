{
  "nbformat": 4,
  "nbformat_minor": 0,
  "metadata": {
    "colab": {
      "name": "Circular_ LinkedList.ipynb",
      "provenance": [],
      "authorship_tag": "ABX9TyMtj3+Q+rsLsoJ+wWDr2dKQ",
      "include_colab_link": true
    },
    "kernelspec": {
      "name": "python3",
      "display_name": "Python 3"
    },
    "language_info": {
      "name": "python"
    }
  },
  "cells": [
    {
      "cell_type": "markdown",
      "metadata": {
        "id": "view-in-github",
        "colab_type": "text"
      },
      "source": [
        "<a href=\"https://colab.research.google.com/github/sitharamulu/DS-Python/blob/main/Circular__LinkedList.ipynb\" target=\"_parent\"><img src=\"https://colab.research.google.com/assets/colab-badge.svg\" alt=\"Open In Colab\"/></a>"
      ]
    },
    {
      "cell_type": "code",
      "metadata": {
        "id": "D2G7idBreIEs"
      },
      "source": [
        "#Circular Linked List\n",
        "\n",
        "class Node:\n",
        "    def __init__(self, data):\n",
        "        self.data = data\n",
        "        self.next = None\n",
        "\n",
        "class circ_lnk_lst: \n",
        "    def __init__(self):\n",
        "        self.head = None \n",
        "        self.tail = None \n",
        "    def create(self): \n",
        "        new_node = Node(input(\"Enter data: \"))\n",
        "        if new_node.next == None:\n",
        "            self.head = new_node \n",
        "            new_node.next = self.head \n",
        "            self.tail = new_node      \n",
        "\n",
        "    def insertion(self):\n",
        "        new_node = Node(input(\"Enter data: \"))\n",
        "        new_node.next = self.head\n",
        "        if self.head == None: \n",
        "            self.head = new_node \n",
        "            new_node.next = self.head\n",
        "            self.tail = new_node\n",
        "        elif self.head == self.tail:\n",
        "            self.head.next = new_node\n",
        "        else:\n",
        "            self.tail.next = new_node\n",
        "        self.tail = new_node\n",
        "\n",
        "\n",
        "    def deletion(self):\n",
        "        #at last\n",
        "        if self.head == None:\n",
        "            print(\"-----------There are no elements present to delete from-----------\")\n",
        "        else:\n",
        "            if self.head.next == self.head:\n",
        "                del self.head\n",
        "                self.head = None\n",
        "            else:\n",
        "                curr_node = self.head\n",
        "                while curr_node.next.next != self.head:\n",
        "                    curr_node = curr_node.next\n",
        "                #current node is the last but one node\n",
        "                last_node = curr_node.next.next\n",
        "                curr_node.next = self.head # link has been removed\n",
        "                del last_node\n",
        "                #update the latest node\n",
        "                self.tail = curr_node\n",
        "    def traversal(self):\n",
        "        pass\n",
        "\n",
        "    def Display(self): #or traversal\n",
        "        if self.head == None:\n",
        "            print(\"-----------No elements are present to display-----------\")\n",
        "        else:\n",
        "            curr_node = self.head\n",
        "            print(\"-----------Elements are:\", end = \" \")\n",
        "            while curr_node.next != self.head:\n",
        "                print(curr_node.data, end = \" \")\n",
        "                curr_node = curr_node.next\n",
        "            print(curr_node.data)\n",
        "\n",
        "\n",
        "circ = circ_lnk_lst()\n",
        "cnd = True\n",
        "circ.create()\n",
        "while cnd:\n",
        "    print(\"Menu\\n\\t1. insert\\n\\t2. Display\\n\\t3. Delete\\n\\t4. Quit\")\n",
        "    query = int(input(\"Enter selected option: \"))\n",
        "    if query == 1:\n",
        "        circ.insertion()\n",
        "    elif query == 2:\n",
        "        circ.Display()\n",
        "    elif query == 3:\n",
        "        circ.deletion()\n",
        "    elif query == 4:\n",
        "        print(\"Quitting...\")\n",
        "        cnd = False\n",
        "    else:\n",
        "        print(\"Select a valid option from menu\")"
      ],
      "execution_count": null,
      "outputs": []
    }
  ]
}