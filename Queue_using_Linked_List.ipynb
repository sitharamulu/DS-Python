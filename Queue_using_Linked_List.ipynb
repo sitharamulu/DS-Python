{
  "nbformat": 4,
  "nbformat_minor": 0,
  "metadata": {
    "colab": {
      "name": "Queue_using Linked List.ipynb",
      "provenance": [],
      "authorship_tag": "ABX9TyNRGdNRe/RDo01ZfMptQTf6",
      "include_colab_link": true
    },
    "kernelspec": {
      "name": "python3",
      "display_name": "Python 3"
    },
    "language_info": {
      "name": "python"
    }
  },
  "cells": [
    {
      "cell_type": "markdown",
      "metadata": {
        "id": "view-in-github",
        "colab_type": "text"
      },
      "source": [
        "<a href=\"https://colab.research.google.com/github/sitharamulu/DS-Python/blob/main/Queue_using_Linked_List.ipynb\" target=\"_parent\"><img src=\"https://colab.research.google.com/assets/colab-badge.svg\" alt=\"Open In Colab\"/></a>"
      ]
    },
    {
      "cell_type": "code",
      "metadata": {
        "id": "e0xbrYhJaLYp"
      },
      "source": [
        "#updated Queues implimentation using Linked List\n",
        "\n",
        "class Node:\n",
        "    def __init__(self, data):\n",
        "        self.data = data\n",
        "        self.next = None\n",
        "    \n",
        "class queue_SL:\n",
        "    def __init__(self):\n",
        "        self.head = None\n",
        "        self.tail = None\n",
        "\n",
        "    \n",
        "    def push(self, data):\n",
        "        new_node = Node(data)\n",
        "        if self.head == None:\n",
        "            self.head = new_node\n",
        "            self.tail = new_node\n",
        "        else:\n",
        "            self.tail.next = new_node\n",
        "            self.tail = new_node\n",
        "   \n",
        "    def Pop(self):\n",
        "        if self.head == None:\n",
        "            print(\"---------Nothing left to remove---------\")\n",
        "        else:\n",
        "            if self.head.next == None:\n",
        "                del self.head\n",
        "                self.head = None\n",
        "            else:\n",
        "                current_node = self.head\n",
        "                self.head = current_node.next\n",
        "                del current_node\n",
        "                \n",
        "\n",
        "    def Display(self):\n",
        "        if self.head == None:\n",
        "            print(\"---------Nothing to be displayed---------\")\n",
        "        else:\n",
        "            temp = self.head\n",
        "            print(\"Elements are:\", end = \" \")\n",
        "            while temp.next != None:\n",
        "                print(temp.data, end = \" \")\n",
        "                temp = temp.next\n",
        "            print(temp.data) 1\n",
        "\n",
        "            1    \n",
        "\n",
        "lnk_lst = queue_SL()\n",
        "cnd = True\n",
        "\n",
        "while cnd:\n",
        "    print(\"Menu\\n1. Push\\n2. Pop\\n3. Display\\n4. Quit\")\n",
        "    query = int(input(\"Enter selected option: \"))\n",
        "    if query == 1:\n",
        "        lnk_lst.push(int(input(\"Enter data: \")))\n",
        "    elif query == 2:\n",
        "        lnk_lst.Pop()\n",
        "    elif query == 3:\n",
        "        lnk_lst.Display()\n",
        "    elif query == 4:\n",
        "        print(\"Quitting...\")\n",
        "        cnd = False\n",
        "    else:\n",
        "        print(\"Select a valid option from menu\")"
      ],
      "execution_count": null,
      "outputs": []
    }
  ]
}